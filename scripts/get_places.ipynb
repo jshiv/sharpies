{
 "metadata": {
  "name": "",
  "signature": "sha256:f2a18742d693aad6b49e94504c9545b4af2f4c708e517c38f961f78d22a94537"
 },
 "nbformat": 3,
 "nbformat_minor": 0,
 "worksheets": [
  {
   "cells": [
    {
     "cell_type": "code",
     "collapsed": false,
     "input": [
      "import urltoys\n",
      "urltoys.local = False"
     ],
     "language": "python",
     "metadata": {},
     "outputs": [],
     "prompt_number": 41
    },
    {
     "cell_type": "code",
     "collapsed": false,
     "input": [
      "urltoys.make_url()"
     ],
     "language": "python",
     "metadata": {},
     "outputs": [
      {
       "metadata": {},
       "output_type": "pyout",
       "prompt_number": 42,
       "text": [
        "'https://sharpies.herokuapp.com/api/v1.0/places'"
       ]
      }
     ],
     "prompt_number": 42
    },
    {
     "cell_type": "code",
     "collapsed": false,
     "input": [
      "import urllib2\n",
      "import json\n",
      "\n",
      "# # response = urllib2.urlopen('https://sharpies.herokuapp.com/api/v1.0/places')\n",
      "# response = urllib2.urlopen('http://localhost:8080/api/v1.0/places')\n",
      "\n",
      "# data = json.load(response)   \n",
      "# print data\n",
      "\n",
      "data = urltoys.get_dict(urltoys.make_url())\n",
      "data"
     ],
     "language": "python",
     "metadata": {},
     "outputs": [
      {
       "metadata": {},
       "output_type": "pyout",
       "prompt_number": 44,
       "text": [
        "{u'places': [{u'_id': u'54ab026b613f6000073ca0ed',\n",
        "   u'address': u'43 Central Ave',\n",
        "   u'cover': 20,\n",
        "   u'image': u'BartinisBarImage',\n",
        "   u'information': u'$1 Jello Shots all night!!!',\n",
        "   u'lat': u'37.788359',\n",
        "   u'line': u'5-10',\n",
        "   u'long': u'-122.424324',\n",
        "   u'name': u'Bartinis',\n",
        "   u'phone': u'978-319-1460',\n",
        "   u'pop': 5,\n",
        "   u'time': 0,\n",
        "   u'type': u'Dive/Sports Bar',\n",
        "   u'uri': u'/api/v1.0/places/54ab026b613f6000073ca0ed'},\n",
        "  {u'_id': u'54ab02d1613f6000073ca0ee',\n",
        "   u'address': u'1500 white terrace',\n",
        "   u'cover': 0,\n",
        "   u'image': u'RootsBarImage',\n",
        "   u'information': u'Roots Bar is a contemporary venue that has a wide selection of drinks from around the world.',\n",
        "   u'lat': u'37.786121',\n",
        "   u'line': u'0-5',\n",
        "   u'long': u'-122.413294',\n",
        "   u'name': u'Roots Bar',\n",
        "   u'phone': u'978-319-1460',\n",
        "   u'pop': 1,\n",
        "   u'time': 0,\n",
        "   u'type': u'Night Club',\n",
        "   u'uri': u'/api/v1.0/places/54ab02d1613f6000073ca0ee'},\n",
        "  {u'_id': u'54ab02f0613f6000073ca0ef',\n",
        "   u'address': u'30 Alexander Ave',\n",
        "   u'cover': 15,\n",
        "   u'image': u'BluBarImage',\n",
        "   u'information': u'Club Blu has a newly renovated dance floor with new and improved lighting',\n",
        "   u'lat': u'37.781542',\n",
        "   u'line': u'15-20',\n",
        "   u'long': u'-122.408016',\n",
        "   u'name': u'Club Blu',\n",
        "   u'phone': u'978-319-1460',\n",
        "   u'pop': 2,\n",
        "   u'time': 0,\n",
        "   u'type': u'Night Club',\n",
        "   u'uri': u'/api/v1.0/places/54ab02f0613f6000073ca0ef'},\n",
        "  {u'_id': u'54ab03d0613f6000073ca0f0',\n",
        "   u'address': u'Francois Street',\n",
        "   u'cover': 25,\n",
        "   u'image': u'ParisBarImage',\n",
        "   u'information': u'Top shelf drinks $3 all night',\n",
        "   u'lat': u'37.787477',\n",
        "   u'line': u'15-20',\n",
        "   u'long': u'-122.409003',\n",
        "   u'name': u'Paris Lounge',\n",
        "   u'phone': u'978-319-1460',\n",
        "   u'pop': 3,\n",
        "   u'time': 0,\n",
        "   u'type': u'Night Club',\n",
        "   u'uri': u'/api/v1.0/places/54ab03d0613f6000073ca0f0'},\n",
        "  {u'_id': u'54ab0449613f6000073ca0f1',\n",
        "   u'address': u'111 No idea street',\n",
        "   u'cover': 0,\n",
        "   u'image': u'No image available',\n",
        "   u'information': u'Like we know!!!',\n",
        "   u'lat': u'37.792700',\n",
        "   u'line': u'15-20',\n",
        "   u'long': u'-122.438700',\n",
        "   u'name': u'The Spot',\n",
        "   u'phone': u'978-319-1460',\n",
        "   u'pop': 5,\n",
        "   u'time': 0,\n",
        "   u'type': u'Unknown',\n",
        "   u'uri': u'/api/v1.0/places/54ab0449613f6000073ca0f1'}]}"
       ]
      }
     ],
     "prompt_number": 44
    },
    {
     "cell_type": "code",
     "collapsed": false,
     "input": [
      "id_list = [item['_id'] for item in data['places']]\n",
      "id_list"
     ],
     "language": "python",
     "metadata": {},
     "outputs": [
      {
       "metadata": {},
       "output_type": "pyout",
       "prompt_number": 31,
       "text": [
        "[u'54ebf18a91e2b8ae7312ed6a',\n",
        " u'54ebf18a91e2b8ae7312ed6b',\n",
        " u'54ebf18a91e2b8ae7312ed6c',\n",
        " u'54ebf18a91e2b8ae7312ed6d',\n",
        " u'54ebf18a91e2b8ae7312ed6e']"
       ]
      }
     ],
     "prompt_number": 31
    },
    {
     "cell_type": "code",
     "collapsed": false,
     "input": [
      "for i in id_list:\n",
      "    urltoys.delete(urltoys.make_url(url_ext='places/'+i))"
     ],
     "language": "python",
     "metadata": {},
     "outputs": [],
     "prompt_number": 32
    },
    {
     "cell_type": "code",
     "collapsed": false,
     "input": [],
     "language": "python",
     "metadata": {},
     "outputs": [],
     "prompt_number": 32
    },
    {
     "cell_type": "code",
     "collapsed": false,
     "input": [
      "s = [{u'address': u'43 Central Ave',\n",
      "  u'cover': 20,\n",
      "  u'image': u'BartinisBarImage',\n",
      "  u'information': u'$1 Jello Shots all night!!!',\n",
      "  u'lat': u'37.788359',\n",
      "  u'long': u'-122.424324',\n",
      "  u'name': u'Bartinis',\n",
      "  u'phone': u'978-319-1460',\n",
      "  u'pop': 5,\n",
      "  u'type': u'Dive/Sports Bar'},\n",
      " {u'address': u'1500 white terrace',\n",
      "  u'cover': 0,\n",
      "  u'image': u'RootsBarImage',\n",
      "  u'information': u'Roots Bar is a contemporary venue that has a wide selection of drinks from around the world.',\n",
      "  u'lat': u'37.786121',\n",
      "  u'long': u'-122.413294',\n",
      "  u'name': u'Roots Bar',\n",
      "  u'phone': u'978-319-1460',\n",
      "  u'pop': 1,\n",
      "  u'type': u'Night Club'},\n",
      " {u'address': u'30 Alexander Ave',\n",
      "  u'cover': 15,\n",
      "  u'image': u'BluBarImage',\n",
      "  u'information': u'Club Blu has a newly renovated dance floor with new and improved lighting',\n",
      "  u'lat': u'37.781542',\n",
      "  u'long': u'-122.408016',\n",
      "  u'name': u'Club Blu',\n",
      "  u'phone': u'978-319-1460',\n",
      "  u'pop': 2,\n",
      "  u'type': u'Night Club'},\n",
      " {u'address': u'Francois Street',\n",
      "  u'cover': 25,\n",
      "  u'image': u'ParisBarImage',\n",
      "  u'information': u'Top shelf drinks $3 all night',\n",
      "  u'lat': u'37.787477',\n",
      "  u'long': u'-122.409003',\n",
      "  u'name': u'Paris Lounge',\n",
      "  u'phone': u'978-319-1460',\n",
      "  u'pop': 3,\n",
      "  u'type': u'Night Club'},\n",
      " {u'address': u'111 No idea street',\n",
      "  u'cover': 0,\n",
      "  u'image': u'No image available',\n",
      "  u'information': u'Like we know!!!',\n",
      "  u'lat': u'37.792700',\n",
      "  u'long': u'-122.438700',\n",
      "  u'name': u'The Spot',\n",
      "  u'phone': u'978-319-1460',\n",
      "  u'pop': 5,\n",
      "  u'type': u'Unknown'}]"
     ],
     "language": "python",
     "metadata": {},
     "outputs": [],
     "prompt_number": 33
    },
    {
     "cell_type": "code",
     "collapsed": false,
     "input": [
      "urltoys.make_url()"
     ],
     "language": "python",
     "metadata": {},
     "outputs": [
      {
       "metadata": {},
       "output_type": "pyout",
       "prompt_number": 34,
       "text": [
        "'http://localhost:8080/api/v1.0/places'"
       ]
      }
     ],
     "prompt_number": 34
    },
    {
     "cell_type": "code",
     "collapsed": false,
     "input": [
      "\n",
      "for data in s:\n",
      "    print data\n",
      "    urltoys.post_dict(urltoys.make_url(), data )\n",
      "#     req = urllib2.Request('http://localhost:8080/api/v1.0/places')\n",
      "#     req.add_header('Content-Type', 'application/json')\n",
      "#     response = urllib2.urlopen(req, json.dumps(data))\n",
      "#     try:\n",
      "#         del data['_id']\n",
      "#         del data['uri']\n",
      "#     except:\n",
      "#         pass\n",
      "#     print \"\"\n",
      "#     print json.dumps(i)"
     ],
     "language": "python",
     "metadata": {},
     "outputs": [
      {
       "output_type": "stream",
       "stream": "stdout",
       "text": [
        "{u'information': u'$1 Jello Shots all night!!!', u'pop': 5, u'name': u'Bartinis', u'address': u'43 Central Ave', u'lat': u'37.788359', u'type': u'Dive/Sports Bar', u'image': u'BartinisBarImage', u'cover': 20, u'long': u'-122.424324', u'phone': u'978-319-1460'}\n",
        "{u'information': u'Roots Bar is a contemporary venue that has a wide selection of drinks from around the world.', u'pop': 1, u'name': u'Roots Bar', u'address': u'1500 white terrace', u'lat': u'37.786121', u'type': u'Night Club', u'image': u'RootsBarImage', u'cover': 0, u'long': u'-122.413294', u'phone': u'978-319-1460'}\n",
        "{u'information': u'Club Blu has a newly renovated dance floor with new and improved lighting', u'pop': 2, u'name': u'Club Blu', u'address': u'30 Alexander Ave', u'lat': u'37.781542', u'type': u'Night Club', u'image': u'BluBarImage', u'cover': 15, u'long': u'-122.408016', u'phone': u'978-319-1460'}\n",
        "{u'information': u'Top shelf drinks $3 all night', u'pop': 3, u'name': u'Paris Lounge', u'address': u'Francois Street', u'lat': u'37.787477', u'type': u'Night Club', u'image': u'ParisBarImage', u'cover': 25, u'long': u'-122.409003', u'phone': u'978-319-1460'}\n",
        "{u'information': u'Like we know!!!', u'pop': 5, u'name': u'The Spot', u'address': u'111 No idea street', u'lat': u'37.792700', u'type': u'Unknown', u'image': u'No image available', u'cover': 0, u'long': u'-122.438700', u'phone': u'978-319-1460'}\n"
       ]
      }
     ],
     "prompt_number": 29
    },
    {
     "cell_type": "code",
     "collapsed": false,
     "input": [],
     "language": "python",
     "metadata": {},
     "outputs": []
    }
   ],
   "metadata": {}
  }
 ]
}