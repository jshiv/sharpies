{
 "metadata": {
  "name": "",
  "signature": "sha256:c9c5e31b91cd7398b1f339c046d2361f5f69f2ae2312103693203c1fba9a35f6"
 },
 "nbformat": 3,
 "nbformat_minor": 0,
 "worksheets": [
  {
   "cells": [
    {
     "cell_type": "code",
     "collapsed": false,
     "input": [
      "import urltoys\n",
      "urltoys.local = True"
     ],
     "language": "python",
     "metadata": {},
     "outputs": [],
     "prompt_number": 4
    },
    {
     "cell_type": "code",
     "collapsed": false,
     "input": [
      "urltoys.make_url()"
     ],
     "language": "python",
     "metadata": {},
     "outputs": [
      {
       "metadata": {},
       "output_type": "pyout",
       "prompt_number": 6,
       "text": [
        "'http://localhost:8080/api/v1.0/places'"
       ]
      }
     ],
     "prompt_number": 6
    },
    {
     "cell_type": "code",
     "collapsed": false,
     "input": [
      "import urllib2\n",
      "import json\n",
      "\n",
      "# # response = urllib2.urlopen('https://sharpies.herokuapp.com/api/v1.0/places')\n",
      "# response = urllib2.urlopen('http://localhost:8080/api/v1.0/places')\n",
      "\n",
      "# data = json.load(response)   \n",
      "# print data\n",
      "\n",
      "urltoys.get_dict(urltoys.make_url())"
     ],
     "language": "python",
     "metadata": {},
     "outputs": [
      {
       "metadata": {},
       "output_type": "pyout",
       "prompt_number": 7,
       "text": [
        "{u'places': [{u'_id': u'54cb050491e2b8208900235b',\n",
        "   u'address': u'43 Central Ave',\n",
        "   u'cover': 20,\n",
        "   u'image': u'BartinisBarImage',\n",
        "   u'information': u'$1 Jello Shots all night!!!',\n",
        "   u'lat': u'37.788359',\n",
        "   u'line': u'5-10',\n",
        "   u'long': u'-122.424324',\n",
        "   u'name': u'Bartinis',\n",
        "   u'phone': u'978-319-1460',\n",
        "   u'pop': 5,\n",
        "   u'type': u'Dive/Sports Bar',\n",
        "   u'uri': u'/api/v1.0/places/54cb050491e2b8208900235b'},\n",
        "  {u'_id': u'54cb054691e2b8208900235c',\n",
        "   u'address': u'30 Alexander Ave',\n",
        "   u'cover': 15,\n",
        "   u'image': u'BluBarImage',\n",
        "   u'information': u'Club Blu has a newly renovated dance floor with new and improved lighting',\n",
        "   u'lat': u'37.781542',\n",
        "   u'line': u'15-20',\n",
        "   u'long': u'-122.408016',\n",
        "   u'name': u'Club Blu',\n",
        "   u'phone': u'978-319-1460',\n",
        "   u'pop': 2,\n",
        "   u'type': u'Night Club',\n",
        "   u'uri': u'/api/v1.0/places/54cb054691e2b8208900235c'},\n",
        "  {u'_id': u'54cb054691e2b8208900235d',\n",
        "   u'address': u'Francois Street',\n",
        "   u'cover': 25,\n",
        "   u'image': u'ParisBarImage',\n",
        "   u'information': u'Top shelf drinks $3 all night',\n",
        "   u'lat': u'37.787477',\n",
        "   u'line': u'15-20',\n",
        "   u'long': u'-122.409003',\n",
        "   u'name': u'Paris Lounge',\n",
        "   u'phone': u'978-319-1460',\n",
        "   u'pop': 3,\n",
        "   u'type': u'Night Club',\n",
        "   u'uri': u'/api/v1.0/places/54cb054691e2b8208900235d'},\n",
        "  {u'_id': u'54cb054691e2b8208900235e',\n",
        "   u'address': u'Eat all the dicks',\n",
        "   u'cover': 0,\n",
        "   u'image': u'No image available',\n",
        "   u'information': u'Like we know!!!',\n",
        "   u'lat': u'37.792700',\n",
        "   u'line': u'15-20',\n",
        "   u'long': u'-122.438700',\n",
        "   u'name': u'The Spot',\n",
        "   u'phone': u'978-319-1460',\n",
        "   u'pop': 5,\n",
        "   u'type': u'',\n",
        "   u'uri': u'/api/v1.0/places/54cb054691e2b8208900235e'}]}"
       ]
      }
     ],
     "prompt_number": 7
    },
    {
     "cell_type": "code",
     "collapsed": false,
     "input": [
      "data['places']"
     ],
     "language": "python",
     "metadata": {},
     "outputs": [
      {
       "metadata": {},
       "output_type": "pyout",
       "prompt_number": 2,
       "text": [
        "[{u'_id': u'54cb050491e2b8208900235b',\n",
        "  u'address': u'43 Central Ave',\n",
        "  u'cover': 20,\n",
        "  u'image': u'BartinisBarImage',\n",
        "  u'information': u'$1 Jello Shots all night!!!',\n",
        "  u'lat': u'37.788359',\n",
        "  u'line': u'5-10',\n",
        "  u'long': u'-122.424324',\n",
        "  u'name': u'Bartinis',\n",
        "  u'phone': u'978-319-1460',\n",
        "  u'pop': 5,\n",
        "  u'type': u'Dive/Sports Bar',\n",
        "  u'uri': u'/api/v1.0/places/54cb050491e2b8208900235b'},\n",
        " {u'_id': u'54cb054691e2b8208900235c',\n",
        "  u'address': u'30 Alexander Ave',\n",
        "  u'cover': 15,\n",
        "  u'image': u'BluBarImage',\n",
        "  u'information': u'Club Blu has a newly renovated dance floor with new and improved lighting',\n",
        "  u'lat': u'37.781542',\n",
        "  u'line': u'15-20',\n",
        "  u'long': u'-122.408016',\n",
        "  u'name': u'Club Blu',\n",
        "  u'phone': u'978-319-1460',\n",
        "  u'pop': 2,\n",
        "  u'type': u'Night Club',\n",
        "  u'uri': u'/api/v1.0/places/54cb054691e2b8208900235c'},\n",
        " {u'_id': u'54cb054691e2b8208900235d',\n",
        "  u'address': u'Francois Street',\n",
        "  u'cover': 25,\n",
        "  u'image': u'ParisBarImage',\n",
        "  u'information': u'Top shelf drinks $3 all night',\n",
        "  u'lat': u'37.787477',\n",
        "  u'line': u'15-20',\n",
        "  u'long': u'-122.409003',\n",
        "  u'name': u'Paris Lounge',\n",
        "  u'phone': u'978-319-1460',\n",
        "  u'pop': 3,\n",
        "  u'type': u'Night Club',\n",
        "  u'uri': u'/api/v1.0/places/54cb054691e2b8208900235d'},\n",
        " {u'_id': u'54cb054691e2b8208900235e',\n",
        "  u'address': u'111 No idea street',\n",
        "  u'cover': 0,\n",
        "  u'image': u'No image available',\n",
        "  u'information': u'Like we know!!!',\n",
        "  u'lat': u'37.792700',\n",
        "  u'line': u'15-20',\n",
        "  u'long': u'-122.438700',\n",
        "  u'name': u'The Spot',\n",
        "  u'phone': u'978-319-1460',\n",
        "  u'pop': 5,\n",
        "  u'type': u'Unknown',\n",
        "  u'uri': u'/api/v1.0/places/54cb054691e2b8208900235e'}]"
       ]
      }
     ],
     "prompt_number": 2
    },
    {
     "cell_type": "code",
     "collapsed": false,
     "input": [
      "s = [{u'_id': u'54ab026b613f6000073ca0ed',\n",
      "  u'address': u'43 Central Ave',\n",
      "  u'cover': 20,\n",
      "  u'image': u'BartinisBarImage',\n",
      "  u'information': u'$1 Jello Shots all night!!!',\n",
      "  u'lat': u'37.788359',\n",
      "  u'line': u'5-10',\n",
      "  u'long': u'-122.424324',\n",
      "  u'name': u'Bartinis',\n",
      "  u'phone': u'978-319-1460',\n",
      "  u'pop': 5,\n",
      "  u'type': u'Dive/Sports Bar',\n",
      "  u'uri': u'/api/v1.0/places/54ab026b613f6000073ca0ed'},\n",
      " {u'_id': u'54ab02d1613f6000073ca0ee',\n",
      "  u'address': u'1500 white terrace',\n",
      "  u'cover': 0,\n",
      "  u'image': u'RootsBarImage',\n",
      "  u'information': u'Roots Bar is a contemporary venue that has a wide selection of drinks from around the world.',\n",
      "  u'lat': u'37.786121',\n",
      "  u'line': u'0-5',\n",
      "  u'long': u'-122.413294',\n",
      "  u'name': u'Roots Bar',\n",
      "  u'phone': u'978-319-1460',\n",
      "  u'pop': 1,\n",
      "  u'type': u'Night Club',\n",
      "  u'uri': u'/api/v1.0/places/54ab02d1613f6000073ca0ee'},\n",
      " {u'_id': u'54ab02f0613f6000073ca0ef',\n",
      "  u'address': u'30 Alexander Ave',\n",
      "  u'cover': 15,\n",
      "  u'image': u'BluBarImage',\n",
      "  u'information': u'Club Blu has a newly renovated dance floor with new and improved lighting',\n",
      "  u'lat': u'37.781542',\n",
      "  u'line': u'15-20',\n",
      "  u'long': u'-122.408016',\n",
      "  u'name': u'Club Blu',\n",
      "  u'phone': u'978-319-1460',\n",
      "  u'pop': 2,\n",
      "  u'type': u'Night Club',\n",
      "  u'uri': u'/api/v1.0/places/54ab02f0613f6000073ca0ef'},\n",
      " {u'_id': u'54ab03d0613f6000073ca0f0',\n",
      "  u'address': u'Francois Street',\n",
      "  u'cover': 25,\n",
      "  u'image': u'ParisBarImage',\n",
      "  u'information': u'Top shelf drinks $3 all night',\n",
      "  u'lat': u'37.787477',\n",
      "  u'line': u'15-20',\n",
      "  u'long': u'-122.409003',\n",
      "  u'name': u'Paris Lounge',\n",
      "  u'phone': u'978-319-1460',\n",
      "  u'pop': 3,\n",
      "  u'type': u'Night Club',\n",
      "  u'uri': u'/api/v1.0/places/54ab03d0613f6000073ca0f0'},\n",
      " {u'_id': u'54ab0449613f6000073ca0f1',\n",
      "  u'address': u'111 No idea street',\n",
      "  u'cover': 0,\n",
      "  u'image': u'No image available',\n",
      "  u'information': u'Like we know!!!',\n",
      "  u'lat': u'37.792700',\n",
      "  u'line': u'15-20',\n",
      "  u'long': u'-122.438700',\n",
      "  u'name': u'The Spot',\n",
      "  u'phone': u'978-319-1460',\n",
      "  u'pop': 5,\n",
      "  u'type': u'Unknown',\n",
      "  u'uri': u'/api/v1.0/places/54ab0449613f6000073ca0f1'}]"
     ],
     "language": "python",
     "metadata": {},
     "outputs": [],
     "prompt_number": 25
    },
    {
     "cell_type": "code",
     "collapsed": false,
     "input": [
      "data"
     ],
     "language": "python",
     "metadata": {},
     "outputs": [
      {
       "metadata": {},
       "output_type": "pyout",
       "prompt_number": 23,
       "text": [
        "{u'address': u'111 No idea street',\n",
        " u'cover': 0,\n",
        " u'image': u'No image available',\n",
        " u'information': u'Like we know!!!',\n",
        " u'lat': u'37.792700',\n",
        " u'line': u'15-20',\n",
        " u'long': u'-122.438700',\n",
        " u'name': u'The Spot',\n",
        " u'phone': u'978-319-1460',\n",
        " u'pop': 5,\n",
        " u'type': u'Unknown'}"
       ]
      }
     ],
     "prompt_number": 23
    },
    {
     "cell_type": "code",
     "collapsed": false,
     "input": [
      "\n",
      "for data in s[2:]:\n",
      "    print data\n",
      "    req = urllib2.Request('http://localhost:8080/api/v1.0/places')\n",
      "    req.add_header('Content-Type', 'application/json')\n",
      "    response = urllib2.urlopen(req, json.dumps(data))\n",
      "#     try:\n",
      "#         del data['_id']\n",
      "#         del data['uri']\n",
      "#     except:\n",
      "#         pass\n",
      "#     print \"\"\n",
      "#     print json.dumps(i)"
     ],
     "language": "python",
     "metadata": {},
     "outputs": [
      {
       "output_type": "stream",
       "stream": "stdout",
       "text": [
        "{u'image': u'BluBarImage', u'pop': 2, u'phone': u'978-319-1460', u'address': u'30 Alexander Ave', u'lat': u'37.781542', u'line': u'15-20', u'information': u'Club Blu has a newly renovated dance floor with new and improved lighting', u'name': u'Club Blu', u'cover': 15, u'uri': u'/api/v1.0/places/54ab02f0613f6000073ca0ef', u'long': u'-122.408016', u'_id': u'54ab02f0613f6000073ca0ef', u'type': u'Night Club'}\n",
        "{u'image': u'ParisBarImage', u'pop': 3, u'phone': u'978-319-1460', u'address': u'Francois Street', u'lat': u'37.787477', u'line': u'15-20', u'information': u'Top shelf drinks $3 all night', u'name': u'Paris Lounge', u'cover': 25, u'uri': u'/api/v1.0/places/54ab03d0613f6000073ca0f0', u'long': u'-122.409003', u'_id': u'54ab03d0613f6000073ca0f0', u'type': u'Night Club'}\n",
        "{u'image': u'No image available', u'pop': 5, u'phone': u'978-319-1460', u'address': u'111 No idea street', u'lat': u'37.792700', u'line': u'15-20', u'information': u'Like we know!!!', u'name': u'The Spot', u'cover': 0, u'uri': u'/api/v1.0/places/54ab0449613f6000073ca0f1', u'long': u'-122.438700', u'_id': u'54ab0449613f6000073ca0f1', u'type': u'Unknown'}\n"
       ]
      }
     ],
     "prompt_number": 28
    }
   ],
   "metadata": {}
  }
 ]
}