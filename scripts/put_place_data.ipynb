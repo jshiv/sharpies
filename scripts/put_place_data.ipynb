{
 "metadata": {
  "name": "",
  "signature": "sha256:e54828a8d0c8d23f94ddd52af133b41dee6b829cde7b13681361e13b6722e3a7"
 },
 "nbformat": 3,
 "nbformat_minor": 0,
 "worksheets": [
  {
   "cells": [
    {
     "cell_type": "code",
     "collapsed": false,
     "input": [
      "import urltoys\n",
      "urltoys.local = False\n",
      "\n"
     ],
     "language": "python",
     "metadata": {},
     "outputs": [],
     "prompt_number": 17
    },
    {
     "cell_type": "code",
     "collapsed": false,
     "input": [
      "places = urltoys.get_dict(urltoys.make_url())\n",
      "places"
     ],
     "language": "python",
     "metadata": {},
     "outputs": [
      {
       "metadata": {},
       "output_type": "pyout",
       "prompt_number": 18,
       "text": [
        "{u'places': [{u'_id': u'54f2304fb6d0e3000aacd21a',\n",
        "   u'address': u'43 Central Ave',\n",
        "   u'cover': 18,\n",
        "   u'image': u'BartinisBarImage',\n",
        "   u'information': u'$1 Jello Shots all night!!!',\n",
        "   u'lat': u'37.788359',\n",
        "   u'line': 0,\n",
        "   u'long': u'-122.424324',\n",
        "   u'name': u'Bartinis',\n",
        "   u'phone': u'978-319-1460',\n",
        "   u'pop': 5,\n",
        "   u'time': 1425158719,\n",
        "   u'type': u'Dive/Sports Bar',\n",
        "   u'uri': u'/api/v1.0/places/54f2304fb6d0e3000aacd21a'},\n",
        "  {u'_id': u'54f2304fb6d0e3000aacd21b',\n",
        "   u'address': u'1500 white terrace',\n",
        "   u'cover': 3,\n",
        "   u'image': u'RootsBarImage',\n",
        "   u'information': u'Roots Bar is a contemporary venue that has a wide selection of drinks from around the world.',\n",
        "   u'lat': u'37.786121',\n",
        "   u'line': 0,\n",
        "   u'long': u'-122.413294',\n",
        "   u'name': u'Roots Bar',\n",
        "   u'phone': u'978-319-1460',\n",
        "   u'pop': 1,\n",
        "   u'time': 1425158615,\n",
        "   u'type': u'Night Club',\n",
        "   u'uri': u'/api/v1.0/places/54f2304fb6d0e3000aacd21b'},\n",
        "  {u'_id': u'54f23050b6d0e3000aacd21c',\n",
        "   u'address': u'30 Alexander Ave',\n",
        "   u'cover': 15,\n",
        "   u'image': u'BluBarImage',\n",
        "   u'information': u'Club Blu has a newly renovated dance floor with new and improved lighting',\n",
        "   u'lat': u'37.781542',\n",
        "   u'line': 0,\n",
        "   u'long': u'-122.408016',\n",
        "   u'name': u'Club Blu',\n",
        "   u'phone': u'978-319-1460',\n",
        "   u'pop': 2,\n",
        "   u'time': 0,\n",
        "   u'type': u'Night Club',\n",
        "   u'uri': u'/api/v1.0/places/54f23050b6d0e3000aacd21c'},\n",
        "  {u'_id': u'54f23050b6d0e3000967033b',\n",
        "   u'address': u'Francois Street',\n",
        "   u'cover': 25,\n",
        "   u'image': u'ParisBarImage',\n",
        "   u'information': u'Top shelf drinks $3 all night',\n",
        "   u'lat': u'37.787477',\n",
        "   u'line': 0,\n",
        "   u'long': u'-122.409003',\n",
        "   u'name': u'Paris Lounge',\n",
        "   u'phone': u'978-319-1460',\n",
        "   u'pop': 3,\n",
        "   u'time': 0,\n",
        "   u'type': u'Night Club',\n",
        "   u'uri': u'/api/v1.0/places/54f23050b6d0e3000967033b'},\n",
        "  {u'_id': u'54f23051b6d0e3000967033c',\n",
        "   u'address': u'111 No idea street',\n",
        "   u'cover': 0,\n",
        "   u'image': u'No image available',\n",
        "   u'information': u'Like we know!!!',\n",
        "   u'lat': u'37.792700',\n",
        "   u'line': 0,\n",
        "   u'long': u'-122.438700',\n",
        "   u'name': u'The Spot',\n",
        "   u'phone': u'978-319-1460',\n",
        "   u'pop': 5,\n",
        "   u'time': 0,\n",
        "   u'type': u'Unknown',\n",
        "   u'uri': u'/api/v1.0/places/54f23051b6d0e3000967033c'}]}"
       ]
      }
     ],
     "prompt_number": 18
    },
    {
     "cell_type": "code",
     "collapsed": false,
     "input": [
      "import calendar\n",
      "from datetime import datetime\n",
      "\n",
      "calendar.timegm(datetime.utcnow().utctimetuple())"
     ],
     "language": "python",
     "metadata": {},
     "outputs": [
      {
       "metadata": {},
       "output_type": "pyout",
       "prompt_number": 3,
       "text": [
        "1425157279"
       ]
      }
     ],
     "prompt_number": 3
    },
    {
     "cell_type": "code",
     "collapsed": false,
     "input": [
      "_id = places['places'][0]['_id']\n",
      "print places['places'][0]['uri']"
     ],
     "language": "python",
     "metadata": {},
     "outputs": [
      {
       "output_type": "stream",
       "stream": "stdout",
       "text": [
        "/api/v1.0/places/54ed5328d1e26e231faa7f91\n"
       ]
      }
     ],
     "prompt_number": 4
    },
    {
     "cell_type": "code",
     "collapsed": false,
     "input": [
      "place = urltoys.get_dict(urltoys.make_url('places/'+_id))\n",
      "place['place']"
     ],
     "language": "python",
     "metadata": {},
     "outputs": [
      {
       "metadata": {},
       "output_type": "pyout",
       "prompt_number": 5,
       "text": [
        "{u'_id': u'54ed5328d1e26e231faa7f91',\n",
        " u'address': u'1500 white terrace',\n",
        " u'cover': 20,\n",
        " u'image': u'RootsBarImage',\n",
        " u'information': u'Roots Bar is a contemporary venue that has a wide selection of drinks from around the world.',\n",
        " u'lat': u'37.786121',\n",
        " u'line': 10,\n",
        " u'long': u'-122.413294',\n",
        " u'name': u'Roots Bar',\n",
        " u'phone': u'978-319-1460',\n",
        " u'pop': 1,\n",
        " u'time': 1425156822,\n",
        " u'type': u'Night Club',\n",
        " u'uri': u'/api/v1.0/places/54ed5328d1e26e231faa7f91'}"
       ]
      }
     ],
     "prompt_number": 5
    },
    {
     "cell_type": "code",
     "collapsed": false,
     "input": [
      "urltoys.put_dict(urltoys.make_url('places/'+_id), {'pop':0,\n",
      "                                                   'time':calendar.timegm(datetime.utcnow().utctimetuple())})\n",
      "    \n",
      "urltoys.put_dict(urltoys.make_url('places/'+_id), {'cover':20,\n",
      "                                                   'time':calendar.timegm(datetime.utcnow().utctimetuple())})\n",
      "\n",
      "urltoys.put_dict(urltoys.make_url('places/'+_id), {'line':10,\n",
      "                                                   'time':calendar.timegm(datetime.utcnow().utctimetuple())})"
     ],
     "language": "python",
     "metadata": {},
     "outputs": [],
     "prompt_number": 6
    },
    {
     "cell_type": "code",
     "collapsed": false,
     "input": [
      "place = urltoys.get_dict(urltoys.make_url('places/'+_id))\n",
      "place['place']\n"
     ],
     "language": "python",
     "metadata": {},
     "outputs": [
      {
       "metadata": {},
       "output_type": "pyout",
       "prompt_number": 8,
       "text": [
        "{u'_id': u'54ed5328d1e26e231faa7f91',\n",
        " u'address': u'1500 white terrace',\n",
        " u'cover': 20,\n",
        " u'image': u'RootsBarImage',\n",
        " u'information': u'Roots Bar is a contemporary venue that has a wide selection of drinks from around the world.',\n",
        " u'lat': u'37.786121',\n",
        " u'line': 10,\n",
        " u'long': u'-122.413294',\n",
        " u'name': u'Roots Bar',\n",
        " u'phone': u'978-319-1460',\n",
        " u'pop': 0,\n",
        " u'time': 1425157295,\n",
        " u'type': u'Night Club',\n",
        " u'uri': u'/api/v1.0/places/54ed5328d1e26e231faa7f91'}"
       ]
      }
     ],
     "prompt_number": 8
    }
   ],
   "metadata": {}
  }
 ]
}