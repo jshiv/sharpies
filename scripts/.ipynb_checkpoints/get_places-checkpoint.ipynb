{
 "metadata": {
  "name": "",
  "signature": "sha256:1c58190f66b02aabdd8d0404271b9372abeb3a6045f26a9a765da66fdfa26d55"
 },
 "nbformat": 3,
 "nbformat_minor": 0,
 "worksheets": []
}