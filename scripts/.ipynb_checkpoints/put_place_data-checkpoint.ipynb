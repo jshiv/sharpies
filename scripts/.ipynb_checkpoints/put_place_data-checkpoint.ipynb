{
 "metadata": {
  "name": "",
  "signature": "sha256:312acded0c2fe7a85036c56b6dba4a7441a5770ce3f290df054caeb3cc403639"
 },
 "nbformat": 3,
 "nbformat_minor": 0,
 "worksheets": [
  {
   "cells": [
    {
     "cell_type": "code",
     "collapsed": false,
     "input": [
      "import urltoys\n",
      "urltoys.local = True\n",
      "\n"
     ],
     "language": "python",
     "metadata": {},
     "outputs": [],
     "prompt_number": 5
    },
    {
     "cell_type": "code",
     "collapsed": false,
     "input": [
      "urltoys.get_dict(urltoys.make_url())"
     ],
     "language": "python",
     "metadata": {},
     "outputs": [
      {
       "metadata": {},
       "output_type": "pyout",
       "prompt_number": 6,
       "text": [
        "{u'places': [{u'_id': u'54cb050491e2b8208900235b',\n",
        "   u'address': u'43 Central Ave',\n",
        "   u'cover': 20,\n",
        "   u'image': u'BartinisBarImage',\n",
        "   u'information': u'$1 Jello Shots all night!!!',\n",
        "   u'lat': u'37.788359',\n",
        "   u'line': u'5-10',\n",
        "   u'long': u'-122.424324',\n",
        "   u'name': u'Bartinis',\n",
        "   u'phone': u'978-319-1460',\n",
        "   u'pop': 5,\n",
        "   u'time': 0,\n",
        "   u'type': u'Dive/Sports Bar',\n",
        "   u'uri': u'/api/v1.0/places/54cb050491e2b8208900235b'},\n",
        "  {u'_id': u'54cb054691e2b8208900235c',\n",
        "   u'address': u'30 Alexander Ave',\n",
        "   u'cover': 15,\n",
        "   u'image': u'BluBarImage',\n",
        "   u'information': u'Club Blu has a newly renovated dance floor with new and improved lighting',\n",
        "   u'lat': u'37.781542',\n",
        "   u'line': u'15-20',\n",
        "   u'long': u'-122.408016',\n",
        "   u'name': u'Club Blu',\n",
        "   u'phone': u'978-319-1460',\n",
        "   u'pop': 2,\n",
        "   u'time': 0,\n",
        "   u'type': u'Night Club',\n",
        "   u'uri': u'/api/v1.0/places/54cb054691e2b8208900235c'},\n",
        "  {u'_id': u'54cb054691e2b8208900235d',\n",
        "   u'address': u'Francois Street',\n",
        "   u'cover': 25,\n",
        "   u'image': u'ParisBarImage',\n",
        "   u'information': u'Top shelf drinks $3 all night',\n",
        "   u'lat': u'37.787477',\n",
        "   u'line': u'15-20',\n",
        "   u'long': u'-122.409003',\n",
        "   u'name': u'Paris Lounge',\n",
        "   u'phone': u'978-319-1460',\n",
        "   u'pop': 3,\n",
        "   u'time': 0,\n",
        "   u'type': u'Night Club',\n",
        "   u'uri': u'/api/v1.0/places/54cb054691e2b8208900235d'},\n",
        "  {u'_id': u'54cb054691e2b8208900235e',\n",
        "   u'address': u'I Like to FUCK DUCKS',\n",
        "   u'cover': 0,\n",
        "   u'image': u'No image available',\n",
        "   u'information': u'Like we know!!!',\n",
        "   u'lat': u'37.792700',\n",
        "   u'line': u'15-20',\n",
        "   u'long': u'-122.438700',\n",
        "   u'name': u'The Spot',\n",
        "   u'phone': u'978-319-1460',\n",
        "   u'pop': 5,\n",
        "   u'time': 0,\n",
        "   u'type': u'',\n",
        "   u'uri': u'/api/v1.0/places/54cb054691e2b8208900235e'}]}"
       ]
      }
     ],
     "prompt_number": 6
    },
    {
     "cell_type": "code",
     "collapsed": false,
     "input": [
      "import datetime as dt\n",
      "utc_now = dt.datetime.utcnow()\n",
      "utc_now.strftime(\"%s\")\n",
      " "
     ],
     "language": "python",
     "metadata": {},
     "outputs": [
      {
       "metadata": {},
       "output_type": "pyout",
       "prompt_number": 30,
       "text": [
        "'1424665991'"
       ]
      }
     ],
     "prompt_number": 30
    },
    {
     "cell_type": "code",
     "collapsed": false,
     "input": [
      "import calendar\n",
      "from datetime import datetime\n",
      "\n",
      "calendar.timegm(datetime.utcnow().utctimetuple())"
     ],
     "language": "python",
     "metadata": {},
     "outputs": [
      {
       "metadata": {},
       "output_type": "pyout",
       "prompt_number": 33,
       "text": [
        "1424637251"
       ]
      }
     ],
     "prompt_number": 33
    },
    {
     "cell_type": "code",
     "collapsed": false,
     "input": [
      "\n",
      "    \n",
      "urltoys.put_dict(urltoys.make_url('places/54cb054691e2b8208900235e'), {'cover':10,\n",
      "                                                                       'time':calendar.timegm(datetime.utcnow().utctimetuple())})"
     ],
     "language": "python",
     "metadata": {},
     "outputs": [],
     "prompt_number": 34
    },
    {
     "cell_type": "code",
     "collapsed": false,
     "input": [
      "urltoys.get_dict(urltoys.make_url('places/54cb054691e2b8208900235e'))"
     ],
     "language": "python",
     "metadata": {},
     "outputs": [
      {
       "metadata": {},
       "output_type": "pyout",
       "prompt_number": 35,
       "text": [
        "{u'place': {u'_id': u'54cb054691e2b8208900235e',\n",
        "  u'address': u'',\n",
        "  u'cover': 10,\n",
        "  u'image': u'',\n",
        "  u'information': u'Like we know!!!',\n",
        "  u'lat': u'37.792700',\n",
        "  u'line': u'',\n",
        "  u'long': u'-122.438700',\n",
        "  u'name': u'The Spot',\n",
        "  u'phone': u'978-319-1460',\n",
        "  u'pop': 0,\n",
        "  u'time': 1424637268,\n",
        "  u'type': u'',\n",
        "  u'uri': u'/api/v1.0/places/54cb054691e2b8208900235e'}}"
       ]
      }
     ],
     "prompt_number": 35
    },
    {
     "cell_type": "code",
     "collapsed": false,
     "input": [
      "urltoys.make_url('places/54cb054691e2b8208900235e')"
     ],
     "language": "python",
     "metadata": {},
     "outputs": [
      {
       "metadata": {},
       "output_type": "pyout",
       "prompt_number": 57,
       "text": [
        "'http://localhost:8080/api/v1.0/places/54cb054691e2b8208900235e'"
       ]
      }
     ],
     "prompt_number": 57
    },
    {
     "cell_type": "code",
     "collapsed": false,
     "input": [
      "from flask.ext.restful import Api, Resource, reqparse, fields"
     ],
     "language": "python",
     "metadata": {},
     "outputs": [
      {
       "ename": "ImportError",
       "evalue": "No module named flask.ext.restful",
       "output_type": "pyerr",
       "traceback": [
        "\u001b[0;31m---------------------------------------------------------------------------\u001b[0m\n\u001b[0;31mImportError\u001b[0m                               Traceback (most recent call last)",
        "\u001b[0;32m<ipython-input-37-ce0dbecb7196>\u001b[0m in \u001b[0;36m<module>\u001b[0;34m()\u001b[0m\n\u001b[0;32m----> 1\u001b[0;31m \u001b[0;32mfrom\u001b[0m \u001b[0mflask\u001b[0m\u001b[0;34m.\u001b[0m\u001b[0mext\u001b[0m\u001b[0;34m.\u001b[0m\u001b[0mrestful\u001b[0m \u001b[0;32mimport\u001b[0m \u001b[0mApi\u001b[0m\u001b[0;34m,\u001b[0m \u001b[0mResource\u001b[0m\u001b[0;34m,\u001b[0m \u001b[0mreqparse\u001b[0m\u001b[0;34m,\u001b[0m \u001b[0mfields\u001b[0m\u001b[0;34m\u001b[0m\u001b[0m\n\u001b[0m",
        "\u001b[0;32m/Users/jshiverick/anaconda/lib/python2.7/site-packages/flask/exthook.pyc\u001b[0m in \u001b[0;36mload_module\u001b[0;34m(self, fullname)\u001b[0m\n\u001b[1;32m     85\u001b[0m                 \u001b[0msetattr\u001b[0m\u001b[0;34m(\u001b[0m\u001b[0msys\u001b[0m\u001b[0;34m.\u001b[0m\u001b[0mmodules\u001b[0m\u001b[0;34m[\u001b[0m\u001b[0mself\u001b[0m\u001b[0;34m.\u001b[0m\u001b[0mwrapper_module\u001b[0m\u001b[0;34m]\u001b[0m\u001b[0;34m,\u001b[0m \u001b[0mmodname\u001b[0m\u001b[0;34m,\u001b[0m \u001b[0mmodule\u001b[0m\u001b[0;34m)\u001b[0m\u001b[0;34m\u001b[0m\u001b[0m\n\u001b[1;32m     86\u001b[0m             \u001b[0;32mreturn\u001b[0m \u001b[0mmodule\u001b[0m\u001b[0;34m\u001b[0m\u001b[0m\n\u001b[0;32m---> 87\u001b[0;31m         \u001b[0;32mraise\u001b[0m \u001b[0mImportError\u001b[0m\u001b[0;34m(\u001b[0m\u001b[0;34m'No module named %s'\u001b[0m \u001b[0;34m%\u001b[0m \u001b[0mfullname\u001b[0m\u001b[0;34m)\u001b[0m\u001b[0;34m\u001b[0m\u001b[0m\n\u001b[0m\u001b[1;32m     88\u001b[0m \u001b[0;34m\u001b[0m\u001b[0m\n\u001b[1;32m     89\u001b[0m     \u001b[0;32mdef\u001b[0m \u001b[0mis_important_traceback\u001b[0m\u001b[0;34m(\u001b[0m\u001b[0mself\u001b[0m\u001b[0;34m,\u001b[0m \u001b[0mimportant_module\u001b[0m\u001b[0;34m,\u001b[0m \u001b[0mtb\u001b[0m\u001b[0;34m)\u001b[0m\u001b[0;34m:\u001b[0m\u001b[0;34m\u001b[0m\u001b[0m\n",
        "\u001b[0;31mImportError\u001b[0m: No module named flask.ext.restful"
       ]
      }
     ],
     "prompt_number": 37
    },
    {
     "cell_type": "code",
     "collapsed": false,
     "input": [],
     "language": "python",
     "metadata": {},
     "outputs": []
    }
   ],
   "metadata": {}
  }
 ]
}